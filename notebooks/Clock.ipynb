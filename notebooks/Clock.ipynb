{
 "cells": [
  {
   "cell_type": "code",
   "execution_count": 1,
   "metadata": {},
   "source": [
    "#!fsharp\n",
    "#load \"../RayTracerChallenge/RayTracerChallenge/scripts/load.fsx\"\n",
    "\n",
    "open RayTracerChallenge.Utilities\n",
    "open RayTracerChallenge.Tuples\n",
    "open RayTracerChallenge.Color\n",
    "open RayTracerChallenge.Canvas\n",
    "open RayTracerChallenge.PPM\n",
    "open RayTracerChallenge.Ray"
   ],
   "outputs": []
  },
  {
   "cell_type": "code",
   "execution_count": 1,
   "metadata": {},
   "source": [
    "#!fsharp\n",
    "let rayOrigin = point(0.0, 0.0, -5.0)\n",
    "let wallZ = 10.0\n",
    "let wallSize = 7.0\n",
    "let canvasSize = 200.0\n",
    "let pixelSize = wallSize / canvasSize\n",
    "let halfSize = wallSize / 2.0\n",
    "let c = canvas (roundToInt canvasSize, roundToInt canvasSize)\n",
    "\n",
    "let compute x y =\n",
    "    let worldX = halfSize - pixelSize * y\n",
    "    let worldY = -halfSize + pixelSize * x\n",
    "    let position = point(worldX, worldY, wallZ)\n",
    "    let r = ray rayOrigin (normalize (position - rayOrigin))\n",
    "    let xs = intersect Sphere None r\n",
    "    match hit xs with\n",
    "    | Some _ -> color(0.5, 0.5, 1.0)\n",
    "    | None   -> color(0.0, 0.0, 0.0)\n",
    "\n",
    "let newC = mapxy (fun x y _ -> compute (float x) (float y)) c\n",
    "\n",
    "let ppmString = canvasToPPM newC\n",
    "\n",
    "writeToPPM newC (System.IO.Path.Combine(__SOURCE_DIRECTORY__, \"../RayTracerChallenge/Images/circle.ppm\"))"
   ],
   "outputs": []
  },
  {
   "cell_type": "code",
   "execution_count": 1,
   "metadata": {},
   "source": [
    "#!fsharp\n",
    "#r \"nuget: SkiaSharp\"\n",
    "\n",
    "open SkiaSharp\n",
    "open System.IO"
   ],
   "outputs": []
  },
  {
   "cell_type": "code",
   "execution_count": 1,
   "metadata": {},
   "source": [
    "#!fsharp\n",
    "let bitmap = new SKBitmap(200, 200)\n",
    "let convert (c : RayTracerChallenge.Color.Color) = SKColor(byte (255.*c.Red), byte (255.*c.Green), byte (255.*c.Blue), byte 255)\n",
    "bitmap\n",
    "iterxy (fun x y c -> bitmap.SetPixel(x, y, convert c)) newC\n",
    "bitmap\n",
    "let image = SKImage.FromBitmap(bitmap)\n",
    "let data = image.Encode()\n",
    "let file = File.OpenWrite(@\"../RayTracerChallenge/Images/circle.png\")\n",
    "data.SaveTo(file)\n",
    "file.Close()\n",
    "file.Dispose()"
   ],
   "outputs": []
  }
 ],
 "metadata": {
  "kernelspec": {
   "display_name": ".NET (C#)",
   "language": "C#",
   "name": ".net-csharp"
  },
  "language_info": {
   "file_extension": ".cs",
   "mimetype": "text/x-csharp",
   "name": "C#",
   "pygments_lexer": "csharp",
   "version": "8.0"
  }
 },
 "nbformat": 4,
 "nbformat_minor": 4
}